{
 "cells": [
  {
   "cell_type": "code",
   "execution_count": 2,
   "metadata": {},
   "outputs": [
    {
     "ename": "ModuleNotFoundError",
     "evalue": "No module named 'configs'",
     "output_type": "error",
     "traceback": [
      "\u001b[1;31m---------------------------------------------------------------------------\u001b[0m",
      "\u001b[1;31mModuleNotFoundError\u001b[0m                       Traceback (most recent call last)",
      "\u001b[1;32m<ipython-input-2-9a3017c02ff1>\u001b[0m in \u001b[0;36m<module>\u001b[1;34m\u001b[0m\n\u001b[0;32m      7\u001b[0m \u001b[1;32mfrom\u001b[0m \u001b[0msklearn\u001b[0m\u001b[1;33m.\u001b[0m\u001b[0mmodel_selection\u001b[0m \u001b[1;32mimport\u001b[0m \u001b[0mtrain_test_split\u001b[0m\u001b[1;33m\u001b[0m\u001b[1;33m\u001b[0m\u001b[0m\n\u001b[0;32m      8\u001b[0m \u001b[1;32mimport\u001b[0m \u001b[0mnumpy\u001b[0m \u001b[1;32mas\u001b[0m \u001b[0mnp\u001b[0m\u001b[1;33m\u001b[0m\u001b[1;33m\u001b[0m\u001b[0m\n\u001b[1;32m----> 9\u001b[1;33m \u001b[1;32mfrom\u001b[0m \u001b[0mconfigs\u001b[0m \u001b[1;32mimport\u001b[0m \u001b[0mDEFINES\u001b[0m\u001b[1;33m\u001b[0m\u001b[1;33m\u001b[0m\u001b[0m\n\u001b[0m\u001b[0;32m     10\u001b[0m \u001b[1;33m\u001b[0m\u001b[0m\n\u001b[0;32m     11\u001b[0m \u001b[1;33m\u001b[0m\u001b[0m\n",
      "\u001b[1;31mModuleNotFoundError\u001b[0m: No module named 'configs'"
     ]
    }
   ],
   "source": [
    "from konlpy.tag import Kkma\n",
    "import pandas as pd\n",
    "import tensorflow as tf\n",
    "import enum\n",
    "import os\n",
    "import re\n",
    "from sklearn.model_selection import train_test_split\n",
    "import numpy as np\n",
    "from configs import DEFINES\n",
    "\n",
    "\n",
    "PAD = \"<PAD>\"\n",
    "STD = \"<SOS>\"\n",
    "END = \"<END>\"\n",
    "UNK = \"<UNK>\"\n",
    "\n",
    "PAD_INDEX = 0\n",
    "STD_INDEX = 1\n",
    "END_INDEX = 2\n",
    "UNK_INDEX = 3\n",
    "\n",
    "MARKER = [PAD, STD, END, UNK]"
   ]
  },
  {
   "cell_type": "code",
   "execution_count": 3,
   "metadata": {},
   "outputs": [],
   "source": [
    "def load_data():\n",
    "    db = pd.read_csv(\"./data_in/ChatBotData.csv\")\n",
    "    train, test = train_test_split(db)\n",
    "    train_q, train_a = train[\"Q\"], train[\"A\"]\n",
    "    test_q, test_a = test[\"Q\"], test[\"A\"]\n",
    "    \n",
    "    return train_q, train_a, test_q, test_a"
   ]
  },
  {
   "cell_type": "code",
   "execution_count": 5,
   "metadata": {},
   "outputs": [],
   "source": [
    "def prepro_noise_canceling(data):\n",
    "    data = re.sub(\"[~.,!?\\\"':;)(]\", \"\", data)\n",
    "\n",
    "    return data"
   ]
  },
  {
   "cell_type": "code",
   "execution_count": 6,
   "metadata": {},
   "outputs": [],
   "source": [
    "def tokenizing_data(data):\n",
    "    kkma = Kkma()\n",
    "    tokens_list = []\n",
    "    \n",
    "    for d in tqdm(data):\n",
    "        tokens = \" \".join(kkma.morphs(d.replace(\" \", \"\")))\n",
    "        tokens_list.append(tokens)\n",
    "    \n",
    "    return tokens_list"
   ]
  },
  {
   "cell_type": "code",
   "execution_count": 7,
   "metadata": {},
   "outputs": [],
   "source": [
    "def enc_processing(value, dictionary):\n",
    "    seq_input_index = []\n",
    "    seq_len = []\n",
    "    \n",
    "    value = prepro_noise_canceling(value)\n",
    "    \n",
    "    for seq in value:\n",
    "        \n",
    "        seq_index = []\n",
    "        \n",
    "        for word in seq.split():\n",
    "            if dictionary.get(word) is not None:\n",
    "                seq_index.extend(dictionary[word])\n",
    "            else:\n",
    "                seq_index.extend(dictionary[UNK])\n",
    "                \n",
    "        if len(seq_index) > DEFINES.max_sequence_length:\n",
    "            seq_index = seq_index[:DEFINES.max_sequence_length]\n",
    "            \n",
    "        seq_len.append(len(seq_index))\n",
    "        \n",
    "        seq_index += (DEFINES.max_sequence_length - len(seq_index)) * [dictionary[PAD]]\n",
    "        \n",
    "        seq_input_index.append(seq_index)\n",
    "        \n",
    "    return np.asarray(seq_input_index), seq_len"
   ]
  },
  {
   "cell_type": "code",
   "execution_count": 1,
   "metadata": {},
   "outputs": [],
   "source": [
    "def dec_input_processing(value, dictionary):\n",
    "    seq_input_index = []\n",
    "    seq_len = []\n",
    "    value = prepro_noise_canceling(value)\n",
    "    \n",
    "    for seq in value:\n",
    "        seq_index = []\n",
    "        \n",
    "        for word in seq.split():\n",
    "            seq_index = [dictionary[STD]]\n",
    "            if dictionary.get(word) is not None:\n",
    "                seq_index.extend(dictionary[word])\n",
    "            else:\n",
    "                seq_index.extend(UNK)\n",
    "                \n",
    "        if len(seq_index) > DEFINES.max_sequence_length:\n",
    "            seq_index = seq_index[:DEFINES.max_sequence_length]\n",
    "            \n",
    "        seq_len.append(len(seq_index))\n",
    "        \n",
    "        seq_index += (DEFINES.max_sequence_length - len(seq_index)) * [dictionary[PAD]]\n",
    "        \n",
    "        seq_input_index.append(seq_index)\n",
    "    \n",
    "    return np.asarray(seq_input_index), seq_len"
   ]
  },
  {
   "cell_type": "code",
   "execution_count": 1,
   "metadata": {},
   "outputs": [],
   "source": [
    "def dec_target_processing(value, dictionary):\n",
    "    seq_input_index = []\n",
    "    seq_len = []\n",
    "    value = prepro_noise_canceling(value)\n",
    "    \n",
    "    for seq in value:\n",
    "        seq_index = []\n",
    "        \n",
    "        seq_index = [dictionary[word] for word in seq.split()]\n",
    "        seq_index = seq_index[:DEFINES.max_sequence_length-1] + [dictionary[END]]\n",
    "            \n",
    "        seq_len.append(len(seq_index))\n",
    "        \n",
    "        seq_index += (DEFINES.max_sequence_length - len(seq_index)) * [dictionary[PAD]]\n",
    "        \n",
    "        seq_input_index.append(seq_index)\n",
    "   \n",
    "    return np.asarray(seq_input_index)"
   ]
  },
  {
   "cell_type": "code",
   "execution_count": 2,
   "metadata": {},
   "outputs": [],
   "source": [
    "def load_voc():\n",
    "    voc_list = []\n",
    "    if (not (os.path.exists(DEFINES.vocabulary_path))):\n",
    "        \n",
    "        data_df = pd.read_csv(\"./data_in/ChatBotData.csv\")\n",
    "        question, answer = data_df[\"Q\"], data_df[\"A\"]\n",
    "        question = prepro_like_morphlized(question)\n",
    "\n",
    "        data = []\n",
    "        data.extend(question)\n",
    "        data.extend(answer)\n",
    "\n",
    "        words = tokenizing_data(data)\n",
    "        \n",
    "        words = list(set(words))\n",
    "        \n",
    "        words[:0] = MARKER\n",
    "        \n",
    "        with open(DEFINES.vocabulary_path, 'w', encoding='utf-8') as voc_file:\n",
    "            for word in words:\n",
    "                voc_file.write(word + \"\\n\")\n",
    "           \n",
    "    with open(DEFINES.vocabulary_path, 'r', encoding='utf-8') as voc_file:\n",
    "        for line in voc_file:\n",
    "            voc_list.append(line.strip())\n",
    "\n",
    "    char2idx, idx2char = make_voc(voc_list)\n",
    "\n",
    "    return char2idx, idx2char, len(char2idx)"
   ]
  },
  {
   "cell_type": "code",
   "execution_count": 1,
   "metadata": {},
   "outputs": [],
   "source": [
    "def make_voc(voc_list):\n",
    "    word_to_idx = {word: idx for idx, word in enumerate(voc_list)}\n",
    "    idx_to_word = {idx: word for idx, word in enumerate(voc_list)}\n",
    "    return word_to_idx, idx_to_word"
   ]
  },
  {
   "cell_type": "code",
   "execution_count": null,
   "metadata": {},
   "outputs": [],
   "source": []
  }
 ],
 "metadata": {
  "kernelspec": {
   "display_name": "Python 3",
   "language": "python",
   "name": "python3"
  },
  "language_info": {
   "codemirror_mode": {
    "name": "ipython",
    "version": 3
   },
   "file_extension": ".py",
   "mimetype": "text/x-python",
   "name": "python",
   "nbconvert_exporter": "python",
   "pygments_lexer": "ipython3",
   "version": "3.7.3"
  }
 },
 "nbformat": 4,
 "nbformat_minor": 2
}
