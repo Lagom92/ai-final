{
 "cells": [
  {
   "cell_type": "code",
   "execution_count": 1,
   "metadata": {},
   "outputs": [
    {
     "ename": "ModuleNotFoundError",
     "evalue": "No module named 'configs'",
     "output_type": "error",
     "traceback": [
      "\u001b[1;31m---------------------------------------------------------------------------\u001b[0m",
      "\u001b[1;31mModuleNotFoundError\u001b[0m                       Traceback (most recent call last)",
      "\u001b[1;32m<ipython-input-1-27c419a1547b>\u001b[0m in \u001b[0;36m<module>\u001b[1;34m\u001b[0m\n\u001b[0;32m      7\u001b[0m \u001b[1;32mfrom\u001b[0m \u001b[0msklearn\u001b[0m\u001b[1;33m.\u001b[0m\u001b[0mmodel_selection\u001b[0m \u001b[1;32mimport\u001b[0m \u001b[0mtrain_test_split\u001b[0m\u001b[1;33m\u001b[0m\u001b[1;33m\u001b[0m\u001b[0m\n\u001b[0;32m      8\u001b[0m \u001b[1;32mimport\u001b[0m \u001b[0mnumpy\u001b[0m \u001b[1;32mas\u001b[0m \u001b[0mnp\u001b[0m\u001b[1;33m\u001b[0m\u001b[1;33m\u001b[0m\u001b[0m\n\u001b[1;32m----> 9\u001b[1;33m \u001b[1;32mfrom\u001b[0m \u001b[0mconfigs\u001b[0m \u001b[1;32mimport\u001b[0m \u001b[0mDEFINES\u001b[0m\u001b[1;33m\u001b[0m\u001b[1;33m\u001b[0m\u001b[0m\n\u001b[0m",
      "\u001b[1;31mModuleNotFoundError\u001b[0m: No module named 'configs'"
     ]
    }
   ],
   "source": [
    "from konlpy.tag import Kkma\n",
    "import pandas as pd\n",
    "import tensorflow as tf\n",
    "import enum\n",
    "import os\n",
    "import re\n",
    "from sklearn.model_selection import train_test_split\n",
    "import numpy as np\n",
    "from configs import DEFINES"
   ]
  },
  {
   "cell_type": "code",
   "execution_count": 2,
   "metadata": {},
   "outputs": [],
   "source": [
    "PAD = \"<PAD>\"\n",
    "STD = \"<SOS>\"\n",
    "END = \"<END>\"\n",
    "UNK = \"<UNK>\"\n",
    "\n",
    "PAD_INDEX = 0\n",
    "STD_INDEX = 1\n",
    "END_INDEX = 2\n",
    "UNK_INDEX = 3\n",
    "\n",
    "MARKER = [PAD, STD, END, UNK]"
   ]
  },
  {
   "cell_type": "code",
   "execution_count": 3,
   "metadata": {},
   "outputs": [],
   "source": [
    "# Req 1-1-1. 데이터를 읽고 트레이닝 셋과 테스트 셋으로 분리\n",
    "def load_data():\n",
    "    db = pd.read_csv(\"./data_in/ChatBotData.csv\")\n",
    "    train, test = train_test_split(db)\n",
    "    train_q, train_a = train[\"Q\"], train[\"A\"]\n",
    "    test_q, test_a = test[\"Q\"], test[\"A\"]\n",
    "    \n",
    "    return train_q, train_a, test_q, test_a"
   ]
  },
  {
   "cell_type": "code",
   "execution_count": 4,
   "metadata": {},
   "outputs": [],
   "source": [
    "# Req 1-1-2. 텍스트 데이터에 정규화를 사용하여 ([~.,!?\\\"':;)(]) 제거\n",
    "def prepro_noise_canceling(data):\n",
    "    data = re.sub(\"[~.,!?\\\"':;)(]\", \"\", data)\n",
    "\n",
    "    return data"
   ]
  },
  {
   "cell_type": "code",
   "execution_count": 5,
   "metadata": {},
   "outputs": [],
   "source": [
    "# Req 1-1-3. 텍스트 데이터에 토크나이징\n",
    "def tokenizing_data(data):\n",
    "    kkma = Kkma()\n",
    "    tokens_list = []\n",
    "    \n",
    "    for d in tqdm(data):\n",
    "        tokens = \" \".join(kkma.morphs(d.replace(\" \", \"\")))\n",
    "        tokens_list.append(tokens)\n",
    "    \n",
    "    return tokens_list"
   ]
  },
  {
   "cell_type": "code",
   "execution_count": 1,
   "metadata": {},
   "outputs": [],
   "source": [
    "# Req 1-2-1. 토큰화된 트레이닝 데이터를 인코더에 활용할 수 있도록 전 처리\n",
    "def enc_processing(value, dictionary):\n",
    "    \n",
    "    # 인덱스 정보를 저장할 배열 초기화\n",
    "    seq_input_index = []\n",
    "    # 문장의 길이를 저장할 배열 초기화\n",
    "    seq_len = []\n",
    "    # 노이즈 캔슬\n",
    "    value = prepro_noise_canceling(value)\n",
    "    \n",
    "    for seq in value:\n",
    "        \n",
    "        # 하나의 seq에 index를 저장할 배열 초기화\n",
    "        seq_index =[]\n",
    "        \n",
    "        for word in seq.split():\n",
    "            if dictionary.get(word) is not None:\n",
    "                # seq_index에 dictionary 안의 인덱스를 extend 한다\n",
    "                seq_index.extend(dictionary[word])\n",
    "            else:\n",
    "                # dictionary에 존재 하지 않는 다면 UNK 값을 extend 한다 \n",
    "                seq_index.extend(dictionary[UNK])\n",
    "                \n",
    "        # 문장 제한 길이보다 길어질 경우 뒤에 토큰을 제거\n",
    "        if len(seq_index) > DEFINES.max_sequence_length:\n",
    "            seq_index = seq_index[:DEFINES.max_sequence_length]\n",
    "            \n",
    "        # seq의 길이를 저장\n",
    "        seq_len.append(len(seq_index))\n",
    "        \n",
    "        # DEFINES.max_sequence_length 길이보다 작은 경우 PAD 값을 추가 (padding)\n",
    "        seq_index += (DEFINES.max_sequence_length - len(seq_index)) * [dictionary[PAD]]\n",
    "        \n",
    "        # 인덱스화 되어 있는 값은 seq_input_index에 추가\n",
    "        seq_input_index.append(seq_index)\n",
    "        \n",
    "    return np.asarray(seq_input_index), seq_len"
   ]
  },
  {
   "cell_type": "code",
   "execution_count": null,
   "metadata": {},
   "outputs": [],
   "source": []
  }
 ],
 "metadata": {
  "kernelspec": {
   "display_name": "Python 3",
   "language": "python",
   "name": "python3"
  },
  "language_info": {
   "codemirror_mode": {
    "name": "ipython",
    "version": 3
   },
   "file_extension": ".py",
   "mimetype": "text/x-python",
   "name": "python",
   "nbconvert_exporter": "python",
   "pygments_lexer": "ipython3",
   "version": "3.7.3"
  }
 },
 "nbformat": 4,
 "nbformat_minor": 2
}
