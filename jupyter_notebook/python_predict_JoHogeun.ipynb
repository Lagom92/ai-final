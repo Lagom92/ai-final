{
 "cells": [
  {
   "cell_type": "code",
   "execution_count": null,
   "metadata": {},
   "outputs": [],
   "source": [
    "import tensorflow as tf\n",
    "import data\n",
    "import os\n",
    "import sys\n",
    "import model as ml\n",
    "\n",
    "from configs import DEFINES"
   ]
  },
  {
   "cell_type": "code",
   "execution_count": null,
   "metadata": {},
   "outputs": [],
   "source": [
    "os.environ['TF_CPP_MIN_LOG_LEVEL'] = '3'"
   ]
  },
  {
   "cell_type": "code",
   "execution_count": null,
   "metadata": {},
   "outputs": [],
   "source": [
    "if __name__ == '__main__':\n",
    "    tf.logging.set_verbosity(tf.logging.ERROR)\n",
    "    arg_length = len(sys.argv)\n",
    "\n",
    "    if (arg_length < 2):\n",
    "        raise Exception(\"Don't call us. We'll call you\")\n",
    "\n",
    "    # 데이터를 통한 사전 구성 한다.\n",
    "    char2idx, idx2char, vocabulary_length = None\n",
    "\n",
    "    # 테스트용 데이터 만드는 부분이다.\n",
    "    # 인코딩 부분 만든다.\n",
    "    input = \"\"\n",
    "    for i in sys.argv[1:]:\n",
    "        input += i\n",
    "        input += \" \"\n",
    "\n",
    "    print(input)\n",
    "    predic_input_enc = None\n",
    "    # 학습 과정이 아니므로 디코딩 입력은\n",
    "    # 존재하지 않는다.(구조를 맞추기 위해 넣는다.)\n",
    "    predic_output_dec = None\n",
    "    # 학습 과정이 아니므로 디코딩 출력 부분도\n",
    "    # 존재하지 않는다.(구조를 맞추기 위해 넣는다.)\n",
    "    predic_target_dec = None\n",
    "\n",
    "    # 에스티메이터 구성한다.\n",
    "    classifier = tf.estimator.Estimator(\n",
    "        model_fn=ml.Model,  # 모델 등록한다.\n",
    "        model_dir=DEFINES.check_point_path,  # 체크포인트 위치 등록한다.\n",
    "        params={  # 모델 쪽으로 파라메터 전달한다.\n",
    "            'embedding_size': DEFINES.embedding_size,\n",
    "            'model_hidden_size': DEFINES.model_hidden_size,  # 가중치 크기 설정한다.\n",
    "            'ffn_hidden_size': DEFINES.ffn_hidden_size,\n",
    "            'attention_head_size': DEFINES.attention_head_size,\n",
    "            'learning_rate': DEFINES.learning_rate,  # 학습율 설정한다.\n",
    "            'vocabulary_length': vocabulary_length,  # 딕셔너리 크기를 설정한다.\n",
    "            'embedding_size': DEFINES.embedding_size,  # 임베딩 크기를 설정한다.\n",
    "            'layer_size': DEFINES.layer_size,\n",
    "            'max_sequence_length': DEFINES.max_sequence_length,\n",
    "            'xavier_initializer': DEFINES.xavier_initializer\n",
    "        })\n",
    "\n",
    "\n",
    "    # 예측을 하는 부분이다.\n",
    "    predictions = classifier.predict(input_fn=lambda: data.eval_input_fn(predic_input_enc, predic_input_dec, predic_target_dec, 1))\n",
    "\n",
    "    answer, finished = None\n",
    "\n",
    "    # 예측한 값을 인지 할 수 있도록\n",
    "    # 텍스트로 변경하는 부분이다.\n",
    "    print(\"answer: \", answer)\n"
   ]
  }
 ],
 "metadata": {
  "kernelspec": {
   "display_name": "Python 3",
   "language": "python",
   "name": "python3"
  },
  "language_info": {
   "codemirror_mode": {
    "name": "ipython",
    "version": 3
   },
   "file_extension": ".py",
   "mimetype": "text/x-python",
   "name": "python",
   "nbconvert_exporter": "python",
   "pygments_lexer": "ipython3",
   "version": "3.7.3"
  }
 },
 "nbformat": 4,
 "nbformat_minor": 2
}
