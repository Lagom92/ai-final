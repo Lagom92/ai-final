{
 "cells": [
  {
   "cell_type": "code",
   "execution_count": null,
   "metadata": {
    "scrolled": true
   },
   "outputs": [],
   "source": [
    "from konlpy.tag import Okt\n",
    "import pandas as pd\n",
    "import tensorflow as tf\n",
    "import enum\n",
    "import os\n",
    "import re\n",
    "from sklearn.model_selection import train_test_split\n",
    "import numpy as np\n",
    "from configs import DEFINES\n",
    "\n",
    "from tqdm import tqdm"
   ]
  },
  {
   "cell_type": "code",
   "execution_count": null,
   "metadata": {},
   "outputs": [],
   "source": [
    "PAD = \"<PAD>\"\n",
    "STD = \"<SOS>\"\n",
    "END = \"<END>\"\n",
    "UNK = \"<UNK>\"\n",
    "\n",
    "PAD_INDEX = 0\n",
    "STD_INDEX = 1\n",
    "END_INDEX = 2\n",
    "UNK_INDEX = 3\n",
    "\n",
    "MARKER = [PAD, STD, END, UNK]"
   ]
  },
  {
   "cell_type": "code",
   "execution_count": null,
   "metadata": {},
   "outputs": [],
   "source": [
    "# Req 1-1-1. 데이터를 읽고 트레이닝 셋과 테스트 셋으로 분리\n",
    "def load_data():\n",
    "    db = pd.read_csv(\"./data_in/ChatBotData.csv\")\n",
    "    train, test = train_test_split(db)\n",
    "    train_q, train_a = train[\"Q\"], train[\"A\"]\n",
    "    test_q, test_a = test[\"Q\"], test[\"A\"]\n",
    "    \n",
    "    return train_q, train_a, test_q, test_a"
   ]
  },
  {
   "cell_type": "code",
   "execution_count": null,
   "metadata": {},
   "outputs": [],
   "source": [
    "# Req 1-1-2. 텍스트 데이터에 정규화를 사용하여 ([~.,!?\\\"':;)(]) 제거\n",
    "def prepro_noise_canceling(data):\n",
    "    noise_filter = re.compile(\"([~.,!?\\\"':;)(])\")\n",
    "    non_noise_data_list = []\n",
    "    \n",
    "    for d in data:\n",
    "        non_noise_data = re.sub(noise_filter, \"\", d)\n",
    "        non_noise_data_list.append(non_noise_data)\n",
    "\n",
    "    return non_noise_data_list"
   ]
  },
  {
   "cell_type": "code",
   "execution_count": null,
   "metadata": {},
   "outputs": [],
   "source": [
    "# Req 1-1-3. 텍스트 데이터에 토크나이징\n",
    "def tokenizing_data(data):\n",
    "    tokens_list = []\n",
    "    data = prepro_noise_canceling(data)\n",
    "    \n",
    "    for d in data:\n",
    "        for token in d.split():\n",
    "            if token:\n",
    "                tokens_list.append(token)\n",
    "    \n",
    "    return tokens_listd"
   ]
  },
  {
   "cell_type": "code",
   "execution_count": null,
   "metadata": {},
   "outputs": [],
   "source": [
    "# 형태소 분석\n",
    "def prepro_like_morphlized(data):\n",
    "    okt = Okt()\n",
    "    result_data = list()\n",
    "\n",
    "    for seq in data:\n",
    "        morphlized_seq = \" \".join(okt.morphs(seq))\n",
    "        result_data.append(morphlized_seq)\n",
    "\n",
    "    return result_data"
   ]
  },
  {
   "cell_type": "code",
   "execution_count": null,
   "metadata": {},
   "outputs": [],
   "source": [
    "# Req 1-2-1. 토큰화된 트레이닝 데이터를 인코더에 활용할 수 있도록 전 처리\n",
    "def enc_processing(value, dictionary):\n",
    "    seq_input_index = []\n",
    "    seq_len = []\n",
    "\n",
    "    value = prepro_noise_canceling(value)\n",
    "    value = prepro_like_morphlized(value)\n",
    "        \n",
    "    for seq in value:\n",
    "        seq_index = []\n",
    "        \n",
    "        for word in seq.split():\n",
    "            if dictionary.get(word) is not None:\n",
    "                seq_index.append(dictionary[word])\n",
    "            else:\n",
    "                seq_index.append(dictionary[UNK])\n",
    "                \n",
    "        if len(seq_index) > DEFINES.max_sequence_length:\n",
    "            seq_index = seq_index[:DEFINES.max_sequence_length]\n",
    "            \n",
    "        seq_len.append(len(seq_index))\n",
    "        seq_index += [dictionary[PAD]] * (DEFINES.max_sequence_length - len(seq_index))\n",
    "        seq_input_index.append(seq_index)\n",
    "        \n",
    "    return np.asarray(seq_input_index), seq_len"
   ]
  },
  {
   "cell_type": "code",
   "execution_count": null,
   "metadata": {},
   "outputs": [],
   "source": [
    "# Req 1-2-2. 디코더에 필요한 데이터 전 처리 \n",
    "def dec_output_processing(value, dictionary):\n",
    "    seq_output_index = []\n",
    "    seq_len = []\n",
    "\n",
    "    value = prepro_noise_canceling(value)\n",
    "\n",
    "    if DEFINES.tokenize_as_morph:\n",
    "        value = prepro_like_morphlized(value)\n",
    "    \n",
    "    for seq in value:\n",
    "        seq_index =[]\n",
    "        \n",
    "        seq_index = [dictionary[STD]] + [dictionary[word] for word in seq.split()]\n",
    "                \n",
    "        if len(seq_index) > DEFINES.max_sequence_length:\n",
    "            seq_index = seq_index[:DEFINES.max_sequence_length]\n",
    "            \n",
    "        seq_len.append(len(seq_index))\n",
    "        seq_index += [dictionary[PAD]] * (DEFINES.max_sequence_length - len(seq_index))\n",
    "        seq_output_index.append(seq_index)\n",
    "    \n",
    "    return np.asarray(seq_output_index), seq_len"
   ]
  },
  {
   "cell_type": "code",
   "execution_count": null,
   "metadata": {},
   "outputs": [],
   "source": [
    "# Req 1-2-3. 디코더에 필요한 데이터 전 처리 \n",
    "def dec_target_processing(value, dictionary):\n",
    "    seq_target_index = []\n",
    "\n",
    "    value = prepro_noise_canceling(value)\n",
    "\n",
    "    if DEFINES.tokenize_as_morph:\n",
    "        value = prepro_like_morphlized(value)\n",
    "    \n",
    "    for seq in value:\n",
    "        seq_index = [dictionary[word] for word in seq.split()]\n",
    "        seq_index = seq_index[:DEFINES.max_sequence_length-1] + [dictionary[END]]\n",
    "        seq_index += [dictionary[PAD]] * (DEFINES.max_sequence_length - len(seq_index))\n",
    "        seq_target_index.append(seq_index)\n",
    "   \n",
    "    return np.asarray(seq_target_index)"
   ]
  },
  {
   "cell_type": "code",
   "execution_count": null,
   "metadata": {},
   "outputs": [],
   "source": [
    "# input과 output dictionary를 만드는 함수\n",
    "def in_out_dict(input, output, target):\n",
    "    features = {\"input\": input, \"output\": output}\n",
    "    return features, target"
   ]
  },
  {
   "cell_type": "code",
   "execution_count": null,
   "metadata": {},
   "outputs": [],
   "source": [
    "# 학습에 들어가 배치 데이터를 만드는 함수\n",
    "def train_input_fn(train_input_enc, train_output_dec, train_target_dec, batch_size):\n",
    "    dataset = tf.data.Dataset.from_tensor_slices((train_input_enc, train_output_dec, train_target_dec))\n",
    "    dataset = dataset.shuffle(buffer_size=len(train_input_enc))\n",
    "\n",
    "    assert batch_size is not None, \"train batchSize must not be None\"\n",
    "    \n",
    "    dataset = dataset.batch(batch_size, drop_remainder=True)\n",
    "    dataset = dataset.map(in_out_dict)\n",
    "    dataset = dataset.repeat()\n",
    "    iterator = dataset.make_one_shot_iterator()\n",
    "\n",
    "    return iterator.get_next()"
   ]
  },
  {
   "cell_type": "code",
   "execution_count": null,
   "metadata": {},
   "outputs": [],
   "source": [
    "# 평가에 들어가 배치 데이터를 만드는 함수\n",
    "def eval_input_fn(eval_input_enc, eval_output_dec, eval_target_dec, batch_size):\n",
    "    dataset = tf.data.Dataset.from_tensor_slices((eval_input_enc, eval_output_dec, eval_target_dec))\n",
    "    dataset = dataset.shuffle(buffer_size=len(eval_input_enc))\n",
    "\n",
    "    assert batch_size is not None, \"eval batchSize must not be None\"\n",
    "\n",
    "    dataset = dataset.batch(batch_size, drop_remainder=True)\n",
    "    dataset = dataset.map(in_out_dict)\n",
    "    dataset = dataset.repeat(1)\n",
    "    iterator = dataset.make_one_shot_iterator()\n",
    "\n",
    "    return iterator.get_next()"
   ]
  },
  {
   "cell_type": "code",
   "execution_count": null,
   "metadata": {},
   "outputs": [],
   "source": [
    "# Req 1-3-3. 예측용 단어 인덱스를 문장으로 변환\n",
    "def pred2string(value, dictionary):\n",
    "    string_list = []\n",
    "    \n",
    "    for v in value:\n",
    "        for index in v[\"indexs\"]:\n",
    "            string_list.append(dictionary[index])\n",
    "    \n",
    "    answer = \"\"\n",
    "    \n",
    "    for word in string_list:\n",
    "        if word not in PAD and word not in END:\n",
    "            answer += word\n",
    "            answer += \" \"\n",
    "            \n",
    "    return answer"
   ]
  },
  {
   "cell_type": "code",
   "execution_count": null,
   "metadata": {},
   "outputs": [],
   "source": [
    "# Req 1-3-1. 단어 사전 파일 vocabularyData.voc를 생성하고 단어와 인덱스 관계를 출력\n",
    "def load_voc():\n",
    "    voc_list = []\n",
    "\n",
    "    if (not (os.path.exists(DEFINES.vocabulary_path))):\n",
    "        data_df = pd.read_csv(DEFINES.data_path, encoding=\"utf-8\")\n",
    "        question, answer = data_df[\"Q\"], data_df[\"A\"]\n",
    "\n",
    "        question = prepro_noise_canceling(question)\n",
    "        answer = prepro_noise_canceling(answer)\n",
    "\n",
    "        question = prepro_like_morphlized(question)\n",
    "\n",
    "        if DEFINES.tokenize_as_morph:\n",
    "            answer = prepro_like_morphlized(answer)\n",
    "\n",
    "        data = []\n",
    "        data.extend(question)\n",
    "        data.extend(answer)\n",
    "\n",
    "        words = tokenizing_data(data)\n",
    "        \n",
    "        words = list(set(words))\n",
    "        \n",
    "        words[:0] = MARKER\n",
    "        \n",
    "        # 사전 파일을 생성 \n",
    "        with open(DEFINES.vocabulary_path, 'w', encoding='utf-8') as voc_file:\n",
    "            for word in words:\n",
    "                voc_file.write(word + \"\\n\")\n",
    "           \n",
    "    # 사전 파일에서 단어(토큰)을 가져와 voc_list에 저장\n",
    "    with open(DEFINES.vocabulary_path, 'r', encoding='utf-8') as voc_file:\n",
    "        for line in voc_file:\n",
    "            voc_list.append(line.strip())\n",
    "\n",
    "    char2idx, idx2char = make_voc(voc_list)\n",
    "\n",
    "    return char2idx, idx2char, len(char2idx)"
   ]
  },
  {
   "cell_type": "code",
   "execution_count": null,
   "metadata": {},
   "outputs": [],
   "source": [
    "# Req 1-3-2. 사전 리스트를 받아 인덱스와 토큰의 dictionary를 생성\n",
    "def make_voc(voc_list):\n",
    "    word_to_idx = {word: idx for idx, word in enumerate(voc_list)}\n",
    "    idx_to_word = {idx: word for idx, word in enumerate(voc_list)}\n",
    "    return word_to_idx, idx_to_word"
   ]
  },
  {
   "cell_type": "code",
   "execution_count": null,
   "metadata": {},
   "outputs": [],
   "source": [
    "def pred_next_string(value, dictionary):\n",
    "    string_list = []\n",
    "    is_finished = False\n",
    "    \n",
    "    for v in value:\n",
    "        for index in v[\"indexs\"]:\n",
    "            string_list.append(dictionary[index])\n",
    "    \n",
    "    answer = \"\"\n",
    "    \n",
    "    for word in string_list:\n",
    "        if word == END:\n",
    "            is_finished = True\n",
    "            break\n",
    "\n",
    "        if word != PAD and word != END:\n",
    "            answer += word\n",
    "            answer += \" \"\n",
    "            \n",
    "    return answer, is_finished"
   ]
  },
  {
   "cell_type": "code",
   "execution_count": null,
   "metadata": {},
   "outputs": [],
   "source": [
    "def main(self):\n",
    "    char2idx, idx2char, voc_length = load_voc()"
   ]
  },
  {
   "cell_type": "code",
   "execution_count": null,
   "metadata": {},
   "outputs": [],
   "source": [
    "if __name__ == '__main__':\n",
    "    tf.logging.set_verbosity(tf.logging.INFO)\n",
    "    tf.app.run(main)"
   ]
  },
  {
   "cell_type": "code",
   "execution_count": null,
   "metadata": {},
   "outputs": [],
   "source": []
  }
 ],
 "metadata": {
  "kernelspec": {
   "display_name": "Python 3",
   "language": "python",
   "name": "python3"
  },
  "language_info": {
   "codemirror_mode": {
    "name": "ipython",
    "version": 3
   },
   "file_extension": ".py",
   "mimetype": "text/x-python",
   "name": "python",
   "nbconvert_exporter": "python",
   "pygments_lexer": "ipython3",
   "version": "3.7.3"
  }
 },
 "nbformat": 4,
 "nbformat_minor": 2
}
